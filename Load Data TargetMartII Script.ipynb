{
    "metadata": {
        "kernelspec": {
            "name": "SQL",
            "display_name": "SQL",
            "language": "sql"
        },
        "language_info": {
            "name": "sql",
            "version": ""
        }
    },
    "nbformat_minor": 2,
    "nbformat": 4,
    "cells": [
        {
            "cell_type": "markdown",
            "source": [
                "# **Loading Data**"
            ],
            "metadata": {
                "azdata_cell_guid": "bf9b1af5-0c8e-487d-8d51-83abdc180551"
            },
            "attachments": {}
        },
        {
            "cell_type": "markdown",
            "source": [
                "## **Loading Data into Calendar table**"
            ],
            "metadata": {
                "azdata_cell_guid": "7396d3cb-abf2-4408-8562-fe3ca45f3ee4"
            },
            "attachments": {}
        },
        {
            "cell_type": "code",
            "source": [
                "USE TargetMartII\r\n",
                "\r\n",
                "\r\n",
                "IF (SELECT count(*) FROM dim.Calendar) = 0\r\n",
                "BEGIN\r\n",
                "-- Declare variables\r\n",
                "DECLARE @StartDate DATE = '2020-01-01'\r\n",
                "DECLARE @EndDate DATE = DATEADD(year, 0, GETDATE())\r\n",
                "DECLARE @Date DATE = @StartDate\r\n",
                "DECLARE @DayID INT = (datepart(year, @StartDate)-1900)*1000 + datepart(dy, @StartDate)\r\n",
                ";\r\n",
                "\r\n",
                "--This is where we fill the data in\r\n",
                "WHILE @Date <= @EndDate\r\n",
                "\tBEGIN\r\n",
                "\t\tINSERT INTO dim.Calendar (pkCalendar, DateValue, Year, Quarter, Qtr, Month,  MonthName, MonthShort, Week, Day, DayName, DayShort, IsWeekday, Weekday)\r\n",
                "\t\tVALUES (\r\n",
                "\t\t\t@DayID,\r\n",
                "\t\t\t@Date,\r\n",
                "\t\t\tYEAR(@Date),\r\n",
                "\t\t\tDATEPART(QUARTER, @Date),\r\n",
                "\t\t\tCASE WHEN DATEPART(QUARTER, @Date) IN (1) THEN '1st'\r\n",
                "\t\t\t\t WHEN DATEPART(QUARTER, @Date) IN (2) THEN '2nd'\r\n",
                "\t\t\t\t WHEN DATEPART(QUARTER, @Date) IN (3) THEN '3rd'\r\n",
                "\t\t\t\t WHEN DATEPART(QUARTER, @Date) IN (4) THEN '4th'\r\n",
                "\t\t\t\t ELSE '5th'\r\n",
                "\t\t\t\t END,\r\n",
                "\t\t\tMONTH(@Date),\r\n",
                "\t\t\tDATENAME(MONTH, @Date),\r\n",
                "\t\t\tLEFT(DATENAME(MONTH, @Date),3),\r\n",
                "\t\t\tDATEPART(WEEK, @Date),\r\n",
                "\t\t\tDAY(@Date),\r\n",
                "\t\t\tDATENAME(WEEKDAY, @Date),\r\n",
                "\t\t\tLEFT(DATENAME(WEEKDAY, @Date),3),\r\n",
                "\t\t\tCASE WHEN DATEPART(WEEKDAY, @Date) IN (1, 7) THEN 0 ELSE 1 END, -- Set IsWeekday to 0 for Saturday (1) and Sunday (7), and 1 for weekdays\r\n",
                "\t\t\tCASE WHEN DATEPART(WEEKDAY, @Date) IN (1, 7) THEN 'No' ELSE 'Yes' END\r\n",
                "\t )\r\n",
                "\r\n",
                "\t\t-- Increment the date and day ID\r\n",
                "\t\tSET @Date = DATEADD(DAY, 1, @Date)\r\n",
                "\t\tSET @DayID = @DayID + 1\r\n",
                "\tEND\r\n",
                "END\r\n",
                "GO"
            ],
            "metadata": {
                "azdata_cell_guid": "6e841184-4237-4127-82a5-5fb5a2bf3375",
                "language": "sql"
            },
            "outputs": [
                {
                    "output_type": "display_data",
                    "data": {
                        "text/html": "Commands completed successfully."
                    },
                    "metadata": {}
                },
                {
                    "output_type": "display_data",
                    "data": {
                        "text/html": "Total execution time: 00:00:00.015"
                    },
                    "metadata": {}
                }
            ],
            "execution_count": 9
        },
        {
            "cell_type": "code",
            "source": [
                "Select TOP 5 *\r\n",
                "FROM TargetMartII.dim.Calendar\r\n",
                ";"
            ],
            "metadata": {
                "azdata_cell_guid": "3fa774e3-afbc-4b73-99bc-baec4bc52a7a",
                "language": "sql"
            },
            "outputs": [
                {
                    "output_type": "display_data",
                    "data": {
                        "text/html": "(5 rows affected)"
                    },
                    "metadata": {}
                },
                {
                    "output_type": "display_data",
                    "data": {
                        "text/html": "Total execution time: 00:00:00.034"
                    },
                    "metadata": {}
                },
                {
                    "output_type": "execute_result",
                    "metadata": {},
                    "execution_count": 11,
                    "data": {
                        "application/vnd.dataresource+json": {
                            "schema": {
                                "fields": [
                                    {
                                        "name": "pkCalendar"
                                    },
                                    {
                                        "name": "DateValue"
                                    },
                                    {
                                        "name": "Year"
                                    },
                                    {
                                        "name": "Quarter"
                                    },
                                    {
                                        "name": "Qtr"
                                    },
                                    {
                                        "name": "Month"
                                    },
                                    {
                                        "name": "MonthName"
                                    },
                                    {
                                        "name": "MonthShort"
                                    },
                                    {
                                        "name": "Week"
                                    },
                                    {
                                        "name": "Day"
                                    },
                                    {
                                        "name": "DayName"
                                    },
                                    {
                                        "name": "DayShort"
                                    },
                                    {
                                        "name": "IsWeekday"
                                    },
                                    {
                                        "name": "Weekday"
                                    }
                                ]
                            },
                            "data": [
                                {
                                    "pkCalendar": "120001",
                                    "DateValue": "2020-01-01",
                                    "Year": "2020",
                                    "Quarter": "1",
                                    "Qtr": "1st",
                                    "Month": "1",
                                    "MonthName": "January",
                                    "MonthShort": "Jan",
                                    "Week": "1",
                                    "Day": "1",
                                    "DayName": "Wednesday",
                                    "DayShort": "Wed",
                                    "IsWeekday": "1",
                                    "Weekday": "Yes"
                                },
                                {
                                    "pkCalendar": "120002",
                                    "DateValue": "2020-01-02",
                                    "Year": "2020",
                                    "Quarter": "1",
                                    "Qtr": "1st",
                                    "Month": "1",
                                    "MonthName": "January",
                                    "MonthShort": "Jan",
                                    "Week": "1",
                                    "Day": "2",
                                    "DayName": "Thursday",
                                    "DayShort": "Thu",
                                    "IsWeekday": "1",
                                    "Weekday": "Yes"
                                },
                                {
                                    "pkCalendar": "120003",
                                    "DateValue": "2020-01-03",
                                    "Year": "2020",
                                    "Quarter": "1",
                                    "Qtr": "1st",
                                    "Month": "1",
                                    "MonthName": "January",
                                    "MonthShort": "Jan",
                                    "Week": "1",
                                    "Day": "3",
                                    "DayName": "Friday",
                                    "DayShort": "Fri",
                                    "IsWeekday": "1",
                                    "Weekday": "Yes"
                                },
                                {
                                    "pkCalendar": "120004",
                                    "DateValue": "2020-01-04",
                                    "Year": "2020",
                                    "Quarter": "1",
                                    "Qtr": "1st",
                                    "Month": "1",
                                    "MonthName": "January",
                                    "MonthShort": "Jan",
                                    "Week": "1",
                                    "Day": "4",
                                    "DayName": "Saturday",
                                    "DayShort": "Sat",
                                    "IsWeekday": "0",
                                    "Weekday": "No"
                                },
                                {
                                    "pkCalendar": "120005",
                                    "DateValue": "2020-01-05",
                                    "Year": "2020",
                                    "Quarter": "1",
                                    "Qtr": "1st",
                                    "Month": "1",
                                    "MonthName": "January",
                                    "MonthShort": "Jan",
                                    "Week": "2",
                                    "Day": "5",
                                    "DayName": "Sunday",
                                    "DayShort": "Sun",
                                    "IsWeekday": "0",
                                    "Weekday": "No"
                                }
                            ]
                        },
                        "text/html": [
                            "<table>",
                            "<tr><th>pkCalendar</th><th>DateValue</th><th>Year</th><th>Quarter</th><th>Qtr</th><th>Month</th><th>MonthName</th><th>MonthShort</th><th>Week</th><th>Day</th><th>DayName</th><th>DayShort</th><th>IsWeekday</th><th>Weekday</th></tr>",
                            "<tr><td>120001</td><td>2020-01-01</td><td>2020</td><td>1</td><td>1st</td><td>1</td><td>January</td><td>Jan</td><td>1</td><td>1</td><td>Wednesday</td><td>Wed</td><td>1</td><td>Yes</td></tr>",
                            "<tr><td>120002</td><td>2020-01-02</td><td>2020</td><td>1</td><td>1st</td><td>1</td><td>January</td><td>Jan</td><td>1</td><td>2</td><td>Thursday</td><td>Thu</td><td>1</td><td>Yes</td></tr>",
                            "<tr><td>120003</td><td>2020-01-03</td><td>2020</td><td>1</td><td>1st</td><td>1</td><td>January</td><td>Jan</td><td>1</td><td>3</td><td>Friday</td><td>Fri</td><td>1</td><td>Yes</td></tr>",
                            "<tr><td>120004</td><td>2020-01-04</td><td>2020</td><td>1</td><td>1st</td><td>1</td><td>January</td><td>Jan</td><td>1</td><td>4</td><td>Saturday</td><td>Sat</td><td>0</td><td>No</td></tr>",
                            "<tr><td>120005</td><td>2020-01-05</td><td>2020</td><td>1</td><td>1st</td><td>1</td><td>January</td><td>Jan</td><td>2</td><td>5</td><td>Sunday</td><td>Sun</td><td>0</td><td>No</td></tr>",
                            "</table>"
                        ]
                    }
                }
            ],
            "execution_count": 11
        },
        {
            "cell_type": "markdown",
            "source": [
                "The above script checks if the dim.Calendar table is empty and, if so, loads it with date-related information within a specified range. It inserts records that includes information such as the year, quarter, month, and weekday indications using a loop. The script guarantees that weekends are properly detected. The procedure is complete after the table is populated with comprehensive date-related data. The top 5 rows from the dim.Calendar table are shown in the second cell."
            ],
            "metadata": {
                "azdata_cell_guid": "6bd035d6-0f35-4a6f-9263-ca3b33100acd"
            },
            "attachments": {}
        },
        {
            "cell_type": "markdown",
            "source": [
                "## **Loading Data into dim.Product table**"
            ],
            "metadata": {
                "azdata_cell_guid": "a265499b-dab9-43be-9d51-f595079973dd"
            },
            "attachments": {}
        },
        {
            "cell_type": "code",
            "source": [
                "USE TargetMartII\r\n",
                "\r\n",
                "INSERT INTO dim.Products(pkProdId, ProductId, Product, ProductCategory, CategoryDesc, UnitPrice, UnitsInStock, UnitsOnOrder, ReorderLevel, Discontinued, ReorderFlag)\r\n",
                "SELECT prod.ProductID + 10000 as 'pkProdId'\r\n",
                "      , prod.ProductID as 'ProductId'\r\n",
                "      , prod.ProductName as 'Product'\r\n",
                "\t  , cat.CategoryName as 'ProductCategory'\r\n",
                "\t  , cat.[Description] as 'CategoryDesc'\r\n",
                "\t  , prod.UnitPrice\r\n",
                "\t  , prod.UnitsInStock\r\n",
                "\t  , prod.UnitsOnOrder\r\n",
                "\t  , prod.ReorderLevel\r\n",
                "\t  , prod.Discontinued\r\n",
                "\t  , CASE \r\n",
                "\t\t\tWHEN prod.ReorderLevel >= (prod.UnitsInStock + prod.UnitsOnOrder)\r\n",
                "\t\t\t     AND prod.Discontinued = 0\r\n",
                "\t\t\t THEN 'Yes'\r\n",
                "\t      ELSE 'No'\r\n",
                "\t    END as 'ReorderFlag'\r\n",
                "FROM Northwind_2023.dbo.Products prod\r\n",
                "\tINNER JOIN Northwind_2023.dbo.Categories cat\r\n",
                "\tON prod.CategoryID = cat.CategoryID\r\n",
                "WHERE prod.ProductID not in (SELECT ProductId FROM dim.Products)\r\n",
                ";\r\n",
                "\r\n",
                "GO"
            ],
            "metadata": {
                "azdata_cell_guid": "3b7e56b6-4ad8-4018-be0e-4a0e3fbc1aed",
                "language": "sql"
            },
            "outputs": [
                {
                    "output_type": "display_data",
                    "data": {
                        "text/html": "(0 rows affected)"
                    },
                    "metadata": {}
                },
                {
                    "output_type": "display_data",
                    "data": {
                        "text/html": "Total execution time: 00:00:00.044"
                    },
                    "metadata": {}
                }
            ],
            "execution_count": 12
        },
        {
            "cell_type": "code",
            "source": [
                "SELECT TOP 5 *\r\n",
                "FROM TargetMartII.dim.Products\r\n",
                ";"
            ],
            "metadata": {
                "azdata_cell_guid": "3b7757f3-367b-4674-888b-27df8c8e2953",
                "language": "sql"
            },
            "outputs": [
                {
                    "output_type": "display_data",
                    "data": {
                        "text/html": "(5 rows affected)"
                    },
                    "metadata": {}
                },
                {
                    "output_type": "display_data",
                    "data": {
                        "text/html": "Total execution time: 00:00:00.050"
                    },
                    "metadata": {}
                },
                {
                    "output_type": "execute_result",
                    "metadata": {},
                    "execution_count": 13,
                    "data": {
                        "application/vnd.dataresource+json": {
                            "schema": {
                                "fields": [
                                    {
                                        "name": "pkProdId"
                                    },
                                    {
                                        "name": "ProductId"
                                    },
                                    {
                                        "name": "Product"
                                    },
                                    {
                                        "name": "ProductCategory"
                                    },
                                    {
                                        "name": "CategoryDesc"
                                    },
                                    {
                                        "name": "UnitPrice"
                                    },
                                    {
                                        "name": "UnitsInStock"
                                    },
                                    {
                                        "name": "UnitsOnOrder"
                                    },
                                    {
                                        "name": "ReorderLevel"
                                    },
                                    {
                                        "name": "Discontinued"
                                    },
                                    {
                                        "name": "ReorderFlag"
                                    }
                                ]
                            },
                            "data": [
                                {
                                    "pkProdId": "10001",
                                    "ProductId": "1",
                                    "Product": "Chai",
                                    "ProductCategory": "Beverages",
                                    "CategoryDesc": "Soft drinks, coffees, teas, beers, and ales",
                                    "UnitPrice": "18.00",
                                    "UnitsInStock": "39",
                                    "UnitsOnOrder": "0",
                                    "ReorderLevel": "10",
                                    "Discontinued": "0",
                                    "ReorderFlag": "No"
                                },
                                {
                                    "pkProdId": "10002",
                                    "ProductId": "2",
                                    "Product": "Chang",
                                    "ProductCategory": "Beverages",
                                    "CategoryDesc": "Soft drinks, coffees, teas, beers, and ales",
                                    "UnitPrice": "19.00",
                                    "UnitsInStock": "17",
                                    "UnitsOnOrder": "40",
                                    "ReorderLevel": "25",
                                    "Discontinued": "0",
                                    "ReorderFlag": "No"
                                },
                                {
                                    "pkProdId": "10003",
                                    "ProductId": "3",
                                    "Product": "Aniseed Syrup",
                                    "ProductCategory": "Condiments",
                                    "CategoryDesc": "Sweet and savory sauces, relishes, spreads, and seasonings",
                                    "UnitPrice": "10.00",
                                    "UnitsInStock": "13",
                                    "UnitsOnOrder": "70",
                                    "ReorderLevel": "25",
                                    "Discontinued": "0",
                                    "ReorderFlag": "No"
                                },
                                {
                                    "pkProdId": "10004",
                                    "ProductId": "4",
                                    "Product": "Chef Anton's Cajun Seasoning",
                                    "ProductCategory": "Condiments",
                                    "CategoryDesc": "Sweet and savory sauces, relishes, spreads, and seasonings",
                                    "UnitPrice": "22.00",
                                    "UnitsInStock": "53",
                                    "UnitsOnOrder": "0",
                                    "ReorderLevel": "0",
                                    "Discontinued": "0",
                                    "ReorderFlag": "No"
                                },
                                {
                                    "pkProdId": "10005",
                                    "ProductId": "5",
                                    "Product": "Chef Anton's Gumbo Mix",
                                    "ProductCategory": "Condiments",
                                    "CategoryDesc": "Sweet and savory sauces, relishes, spreads, and seasonings",
                                    "UnitPrice": "21.35",
                                    "UnitsInStock": "0",
                                    "UnitsOnOrder": "0",
                                    "ReorderLevel": "0",
                                    "Discontinued": "1",
                                    "ReorderFlag": "No"
                                }
                            ]
                        },
                        "text/html": [
                            "<table>",
                            "<tr><th>pkProdId</th><th>ProductId</th><th>Product</th><th>ProductCategory</th><th>CategoryDesc</th><th>UnitPrice</th><th>UnitsInStock</th><th>UnitsOnOrder</th><th>ReorderLevel</th><th>Discontinued</th><th>ReorderFlag</th></tr>",
                            "<tr><td>10001</td><td>1</td><td>Chai</td><td>Beverages</td><td>Soft drinks, coffees, teas, beers, and ales</td><td>18.00</td><td>39</td><td>0</td><td>10</td><td>0</td><td>No</td></tr>",
                            "<tr><td>10002</td><td>2</td><td>Chang</td><td>Beverages</td><td>Soft drinks, coffees, teas, beers, and ales</td><td>19.00</td><td>17</td><td>40</td><td>25</td><td>0</td><td>No</td></tr>",
                            "<tr><td>10003</td><td>3</td><td>Aniseed Syrup</td><td>Condiments</td><td>Sweet and savory sauces, relishes, spreads, and seasonings</td><td>10.00</td><td>13</td><td>70</td><td>25</td><td>0</td><td>No</td></tr>",
                            "<tr><td>10004</td><td>4</td><td>Chef Anton's Cajun Seasoning</td><td>Condiments</td><td>Sweet and savory sauces, relishes, spreads, and seasonings</td><td>22.00</td><td>53</td><td>0</td><td>0</td><td>0</td><td>No</td></tr>",
                            "<tr><td>10005</td><td>5</td><td>Chef Anton's Gumbo Mix</td><td>Condiments</td><td>Sweet and savory sauces, relishes, spreads, and seasonings</td><td>21.35</td><td>0</td><td>0</td><td>0</td><td>1</td><td>No</td></tr>",
                            "</table>"
                        ]
                    }
                }
            ],
            "execution_count": 13
        },
        {
            "cell_type": "markdown",
            "source": [
                "The above script extracts and transforms data from Northwind\\_2023.dbo.Products and inserts it into the dim.Products table. It modifies the 'pkProdId' by adding 10,000 to the ProductID and assigns a 'ReorderFlag' depending on certain conditions. Only new records are added by filtering out existing ProductID values in the target table. The second column simply shows that the data extraction and processing is complete, and it displays the top 5 records of dim.products."
            ],
            "metadata": {
                "azdata_cell_guid": "68cfa550-c16a-439e-9785-4bb552c224ea"
            },
            "attachments": {}
        },
        {
            "cell_type": "markdown",
            "source": [
                "## **Loading Data into dim.Employee table**"
            ],
            "metadata": {
                "azdata_cell_guid": "bea18045-7498-42f8-a62c-64cd59f445ca"
            },
            "attachments": {}
        },
        {
            "cell_type": "code",
            "source": [
                "use TargetMartII\r\n",
                "\r\n",
                "INSERT INTO dim.Employees(EmployeeID, Employee, Title, BirthDate, HireDate, City, Country, ReportsTo)\r\n",
                "SELECT sEmp.EmployeeID\r\n",
                "\t  ,concat( sEmp.TitleOfCourtesy, ' ', sEmp.FirstName, ', ', sEmp.LastName)\r\n",
                "      ,sEmp.Title\r\n",
                "      ,sEmp.BirthDate\r\n",
                "      ,sEmp.HireDate\r\n",
                "      ,sEmp.City\r\n",
                "      ,sEmp.Country\r\n",
                "      ,sEmp.ReportsTo\r\n",
                "FROM Northwind_2023.dbo.Employees sEmp\r\n",
                "WHERE sEmp.EmployeeID not in (SELECT EmployeeID FROM dim.Employees)"
            ],
            "metadata": {
                "azdata_cell_guid": "341f8743-f7a6-4c7e-84fe-cf92794e4854",
                "language": "sql"
            },
            "outputs": [
                {
                    "output_type": "display_data",
                    "data": {
                        "text/html": "(0 rows affected)"
                    },
                    "metadata": {}
                },
                {
                    "output_type": "display_data",
                    "data": {
                        "text/html": "Total execution time: 00:00:00.025"
                    },
                    "metadata": {}
                }
            ],
            "execution_count": 14
        },
        {
            "cell_type": "code",
            "source": [
                "SELECT TOP 5 *\r\n",
                "FROM TargetMartII.dim.Employees\r\n",
                ";"
            ],
            "metadata": {
                "azdata_cell_guid": "864a4e80-4595-43e9-9dc5-82ce71a2aab5",
                "language": "sql"
            },
            "outputs": [
                {
                    "output_type": "display_data",
                    "data": {
                        "text/html": "(5 rows affected)"
                    },
                    "metadata": {}
                },
                {
                    "output_type": "display_data",
                    "data": {
                        "text/html": "Total execution time: 00:00:00.021"
                    },
                    "metadata": {}
                },
                {
                    "output_type": "execute_result",
                    "metadata": {},
                    "execution_count": 15,
                    "data": {
                        "application/vnd.dataresource+json": {
                            "schema": {
                                "fields": [
                                    {
                                        "name": "EmployeeID"
                                    },
                                    {
                                        "name": "Employee"
                                    },
                                    {
                                        "name": "Title"
                                    },
                                    {
                                        "name": "BirthDate"
                                    },
                                    {
                                        "name": "HireDate"
                                    },
                                    {
                                        "name": "City"
                                    },
                                    {
                                        "name": "Country"
                                    },
                                    {
                                        "name": "ReportsTo"
                                    }
                                ]
                            },
                            "data": [
                                {
                                    "EmployeeID": "1",
                                    "Employee": "Ms. Nancy, Davolio",
                                    "Title": "Sales Representative",
                                    "BirthDate": "1973-12-08 00:00:00.000",
                                    "HireDate": "2017-05-01 00:00:00.000",
                                    "City": "Seattle",
                                    "Country": "USA",
                                    "ReportsTo": "2"
                                },
                                {
                                    "EmployeeID": "2",
                                    "Employee": "Dr. Andrew, Fuller",
                                    "Title": "Vice President, Sales",
                                    "BirthDate": "1977-02-19 00:00:00.000",
                                    "HireDate": "2017-08-14 00:00:00.000",
                                    "City": "Tacoma",
                                    "Country": "USA",
                                    "ReportsTo": "NULL"
                                },
                                {
                                    "EmployeeID": "3",
                                    "Employee": "Ms. Janet, Leverling",
                                    "Title": "Sales Representative",
                                    "BirthDate": "1988-08-30 00:00:00.000",
                                    "HireDate": "2017-04-01 00:00:00.000",
                                    "City": "Kirkland",
                                    "Country": "USA",
                                    "ReportsTo": "2"
                                },
                                {
                                    "EmployeeID": "4",
                                    "Employee": "Mrs. Margaret, Peacock",
                                    "Title": "Sales Representative",
                                    "BirthDate": "1962-09-19 00:00:00.000",
                                    "HireDate": "2018-05-03 00:00:00.000",
                                    "City": "Redmond",
                                    "Country": "USA",
                                    "ReportsTo": "2"
                                },
                                {
                                    "EmployeeID": "5",
                                    "Employee": "Mr. Steven, Buchanan",
                                    "Title": "Sales Manager",
                                    "BirthDate": "1980-03-04 00:00:00.000",
                                    "HireDate": "2018-10-17 00:00:00.000",
                                    "City": "London",
                                    "Country": "UK",
                                    "ReportsTo": "2"
                                }
                            ]
                        },
                        "text/html": [
                            "<table>",
                            "<tr><th>EmployeeID</th><th>Employee</th><th>Title</th><th>BirthDate</th><th>HireDate</th><th>City</th><th>Country</th><th>ReportsTo</th></tr>",
                            "<tr><td>1</td><td>Ms. Nancy, Davolio</td><td>Sales Representative</td><td>1973-12-08 00:00:00.000</td><td>2017-05-01 00:00:00.000</td><td>Seattle</td><td>USA</td><td>2</td></tr>",
                            "<tr><td>2</td><td>Dr. Andrew, Fuller</td><td>Vice President, Sales</td><td>1977-02-19 00:00:00.000</td><td>2017-08-14 00:00:00.000</td><td>Tacoma</td><td>USA</td><td>NULL</td></tr>",
                            "<tr><td>3</td><td>Ms. Janet, Leverling</td><td>Sales Representative</td><td>1988-08-30 00:00:00.000</td><td>2017-04-01 00:00:00.000</td><td>Kirkland</td><td>USA</td><td>2</td></tr>",
                            "<tr><td>4</td><td>Mrs. Margaret, Peacock</td><td>Sales Representative</td><td>1962-09-19 00:00:00.000</td><td>2018-05-03 00:00:00.000</td><td>Redmond</td><td>USA</td><td>2</td></tr>",
                            "<tr><td>5</td><td>Mr. Steven, Buchanan</td><td>Sales Manager</td><td>1980-03-04 00:00:00.000</td><td>2018-10-17 00:00:00.000</td><td>London</td><td>UK</td><td>2</td></tr>",
                            "</table>"
                        ]
                    }
                }
            ],
            "execution_count": 15
        },
        {
            "cell_type": "markdown",
            "source": [
                "The above script inserts expanded employee data into the dim.Employees table. It extracts and changes data from Northwind\\_2023.dbo.Employees, create the 'Employee' column by concatenating an employee's title, first name, last name, and other details. The script inserts new records carefully, excluding those with existing EmployeeID values in the target table."
            ],
            "metadata": {
                "azdata_cell_guid": "bc248529-17c7-4aa4-8a35-18bea6b119d5"
            },
            "attachments": {}
        },
        {
            "cell_type": "markdown",
            "source": [
                "## **Loading Data into dim.Shipper table**"
            ],
            "metadata": {
                "azdata_cell_guid": "bc72a953-bac6-4d1f-aa85-82afd42c49f0"
            },
            "attachments": {}
        },
        {
            "cell_type": "code",
            "source": [
                "use TargetMartII\r\n",
                "\r\n",
                "INSERT INTO dim.Shipper(pkShipId, Shipper, Phone)\r\n",
                "SELECT s_sh.ShipperID\r\n",
                "      ,s_sh.CompanyName\r\n",
                "      ,s_sh.Phone\r\n",
                "FROM Northwind_2023.dbo.Shippers s_sh\r\n",
                "WHERE s_sh.ShipperID not in (SELECT pkShipId FROM dim.Shipper)\r\n",
                ";\r\n",
                "GO"
            ],
            "metadata": {
                "azdata_cell_guid": "5ba5762c-7cc7-4454-8682-a3f099bd0c16",
                "language": "sql"
            },
            "outputs": [
                {
                    "output_type": "display_data",
                    "data": {
                        "text/html": "(0 rows affected)"
                    },
                    "metadata": {}
                },
                {
                    "output_type": "display_data",
                    "data": {
                        "text/html": "Total execution time: 00:00:00.013"
                    },
                    "metadata": {}
                }
            ],
            "execution_count": 16
        },
        {
            "cell_type": "code",
            "source": [
                "SELECT *\r\n",
                "FROM TargetMartII.dim.Shipper\r\n",
                ";"
            ],
            "metadata": {
                "azdata_cell_guid": "4703600a-7274-4a15-aff6-3af8286360a5",
                "language": "sql"
            },
            "outputs": [
                {
                    "output_type": "display_data",
                    "data": {
                        "text/html": "(3 rows affected)"
                    },
                    "metadata": {}
                },
                {
                    "output_type": "display_data",
                    "data": {
                        "text/html": "Total execution time: 00:00:00.009"
                    },
                    "metadata": {}
                },
                {
                    "output_type": "execute_result",
                    "metadata": {},
                    "execution_count": 17,
                    "data": {
                        "application/vnd.dataresource+json": {
                            "schema": {
                                "fields": [
                                    {
                                        "name": "pkShipId"
                                    },
                                    {
                                        "name": "Shipper"
                                    },
                                    {
                                        "name": "Phone"
                                    }
                                ]
                            },
                            "data": [
                                {
                                    "pkShipId": "1",
                                    "Shipper": "Speedy Express",
                                    "Phone": "(503) 555-9831"
                                },
                                {
                                    "pkShipId": "2",
                                    "Shipper": "United Package",
                                    "Phone": "(503) 555-3199"
                                },
                                {
                                    "pkShipId": "3",
                                    "Shipper": "Federal Shipping",
                                    "Phone": "(503) 555-9931"
                                }
                            ]
                        },
                        "text/html": [
                            "<table>",
                            "<tr><th>pkShipId</th><th>Shipper</th><th>Phone</th></tr>",
                            "<tr><td>1</td><td>Speedy Express</td><td>(503) 555-9831</td></tr>",
                            "<tr><td>2</td><td>United Package</td><td>(503) 555-3199</td></tr>",
                            "<tr><td>3</td><td>Federal Shipping</td><td>(503) 555-9931</td></tr>",
                            "</table>"
                        ]
                    }
                }
            ],
            "execution_count": 17
        },
        {
            "cell_type": "markdown",
            "source": [
                "The source table in this script is dbo.Shippers, and the database is Northwind\\_2023. Its data is being created and imported into the new dim.Shipper."
            ],
            "metadata": {
                "azdata_cell_guid": "f9246e39-7544-4b4e-9a29-bcf1ec457667"
            },
            "attachments": {}
        },
        {
            "cell_type": "markdown",
            "source": [
                "## **Loading Data into dim.Customer table**"
            ],
            "metadata": {
                "azdata_cell_guid": "1fdd4da4-0f83-486e-8120-941e01ef034c"
            },
            "attachments": {}
        },
        {
            "cell_type": "code",
            "source": [
                "use TargetMartII\r\n",
                "\r\n",
                "INSERT INTO dim.Customers(CustomerID, Customer, City, Country, LoadDate, SourceCountry)\r\n",
                "\tSELECT nwc.CustomerID\r\n",
                "\t\t  ,nwc.CompanyName \r\n",
                "\t\t  ,nwc.City\r\n",
                "\t\t  ,nwc.Country\r\n",
                "\t\t  ,CAST(getdate() as DATE)\r\n",
                "\t\t  ,concat('Country = ', nwc.Country) \r\n",
                "\tFROM Northwind_2023.dbo.Customers nwc\r\n",
                "\tWHERE nwc.CustomerID not in (SELECT CustomerID FROM dim.Customers)\r\n",
                "\r\n",
                ";\r\n",
                "GO"
            ],
            "metadata": {
                "azdata_cell_guid": "78219594-322b-46ea-9d83-7096b0d224d4",
                "language": "sql"
            },
            "outputs": [
                {
                    "output_type": "display_data",
                    "data": {
                        "text/html": "(0 rows affected)"
                    },
                    "metadata": {}
                },
                {
                    "output_type": "display_data",
                    "data": {
                        "text/html": "Total execution time: 00:00:00.017"
                    },
                    "metadata": {}
                }
            ],
            "execution_count": 18
        },
        {
            "cell_type": "code",
            "source": [
                "SELECT TOP 5 *\r\n",
                "FROM dim.Customers\r\n",
                ";"
            ],
            "metadata": {
                "azdata_cell_guid": "02479972-8ef1-4363-a6eb-a57cb345dc7f",
                "language": "sql"
            },
            "outputs": [
                {
                    "output_type": "display_data",
                    "data": {
                        "text/html": "(5 rows affected)"
                    },
                    "metadata": {}
                },
                {
                    "output_type": "display_data",
                    "data": {
                        "text/html": "Total execution time: 00:00:00.017"
                    },
                    "metadata": {}
                },
                {
                    "output_type": "execute_result",
                    "metadata": {},
                    "execution_count": 19,
                    "data": {
                        "application/vnd.dataresource+json": {
                            "schema": {
                                "fields": [
                                    {
                                        "name": "pkCustomer"
                                    },
                                    {
                                        "name": "CustomerID"
                                    },
                                    {
                                        "name": "Customer"
                                    },
                                    {
                                        "name": "City"
                                    },
                                    {
                                        "name": "Country"
                                    },
                                    {
                                        "name": "LoadDate"
                                    },
                                    {
                                        "name": "SourceCountry"
                                    }
                                ]
                            },
                            "data": [
                                {
                                    "pkCustomer": "1000",
                                    "CustomerID": "ALFKI",
                                    "Customer": "Alfreds Futterkiste",
                                    "City": "Berlin",
                                    "Country": "Germany",
                                    "LoadDate": "2023-11-27",
                                    "SourceCountry": "Country = Germany"
                                },
                                {
                                    "pkCustomer": "1001",
                                    "CustomerID": "ANATR",
                                    "Customer": "Ana Trujillo Emparedados y helados",
                                    "City": "México D.F.",
                                    "Country": "Mexico",
                                    "LoadDate": "2023-11-27",
                                    "SourceCountry": "Country = Mexico"
                                },
                                {
                                    "pkCustomer": "1002",
                                    "CustomerID": "ANTON",
                                    "Customer": "Antonio Moreno Taquería",
                                    "City": "México D.F.",
                                    "Country": "Mexico",
                                    "LoadDate": "2023-11-27",
                                    "SourceCountry": "Country = Mexico"
                                },
                                {
                                    "pkCustomer": "1003",
                                    "CustomerID": "AROUT",
                                    "Customer": "Around the Horn",
                                    "City": "London",
                                    "Country": "UK",
                                    "LoadDate": "2023-11-27",
                                    "SourceCountry": "Country = UK"
                                },
                                {
                                    "pkCustomer": "1004",
                                    "CustomerID": "BERGS",
                                    "Customer": "Berglunds snabbköp",
                                    "City": "Luleå",
                                    "Country": "Sweden",
                                    "LoadDate": "2023-11-27",
                                    "SourceCountry": "Country = Sweden"
                                }
                            ]
                        },
                        "text/html": [
                            "<table>",
                            "<tr><th>pkCustomer</th><th>CustomerID</th><th>Customer</th><th>City</th><th>Country</th><th>LoadDate</th><th>SourceCountry</th></tr>",
                            "<tr><td>1000</td><td>ALFKI</td><td>Alfreds Futterkiste</td><td>Berlin</td><td>Germany</td><td>2023-11-27</td><td>Country = Germany</td></tr>",
                            "<tr><td>1001</td><td>ANATR</td><td>Ana Trujillo Emparedados y helados</td><td>México D.F.</td><td>Mexico</td><td>2023-11-27</td><td>Country = Mexico</td></tr>",
                            "<tr><td>1002</td><td>ANTON</td><td>Antonio Moreno Taquería</td><td>México D.F.</td><td>Mexico</td><td>2023-11-27</td><td>Country = Mexico</td></tr>",
                            "<tr><td>1003</td><td>AROUT</td><td>Around the Horn</td><td>London</td><td>UK</td><td>2023-11-27</td><td>Country = UK</td></tr>",
                            "<tr><td>1004</td><td>BERGS</td><td>Berglunds snabbköp</td><td>Luleå</td><td>Sweden</td><td>2023-11-27</td><td>Country = Sweden</td></tr>",
                            "</table>"
                        ]
                    }
                }
            ],
            "execution_count": 19
        },
        {
            "cell_type": "markdown",
            "source": [
                "The source table in this script is dbo.Northwind\\_2023 database. Its data is being obtained and imported into the new dim.Customers."
            ],
            "metadata": {
                "azdata_cell_guid": "8cc8832c-bd12-4366-967b-c89b27c550e9"
            },
            "attachments": {}
        },
        {
            "cell_type": "markdown",
            "source": [
                "## **Loading Data into f.OrderPerf table**"
            ],
            "metadata": {
                "azdata_cell_guid": "ef3c0a64-559a-4ff9-93cd-5cd51e49df49"
            },
            "attachments": {}
        },
        {
            "cell_type": "code",
            "source": [
                "TRUNCATE TABLE TargetMartII.f.OrderPerf\r\n",
                "GO\r\n",
                "\r\n",
                "INSERT INTO TargetMartII.f.OrderPerf(OrderID, fkCalendar, fkCustomer, fkShipper, fkEmployee, Freight, DaysToShip, DaysTilRequired, OrderCount)\r\n",
                "SELECT sO.OrderID\r\n",
                "\t  ,tC.pkCalendar as fkCalendar\r\n",
                "\t  ,tCus.pkCustomer as fkCustomer\r\n",
                "\t  ,sO.ShipVia as fkShipper\r\n",
                "\t  ,sO.EmployeeID as fkEmployee\r\n",
                "\t  ,sO.Freight\r\n",
                "\t  ,DATEDIFF ( day , sO.OrderDate , sO.ShippedDate ) as 'DaysToShip'\r\n",
                "\t  ,DATEDIFF ( day , sO.OrderDate , sO.RequireDate ) as 'DaysTilRequired'\r\n",
                "\t  , 1 as 'OrderCount'\r\n",
                "FROM Northwind_2023.dbo.Orders sO\r\n",
                "\tINNER JOIN TargetMartII.dim.Calendar tC\r\n",
                "\tON cast(so.OrderDate as DATE) = tc.DateValue\r\n",
                "\tINNER JOIN TargetMartII.dim.Customers tCus\r\n",
                "\tON sO.CustomerID = tCus.CustomerID\r\n",
                "; \r\n",
                ""
            ],
            "metadata": {
                "azdata_cell_guid": "b436c188-1fc4-48c9-bbce-6f967cf252ae",
                "language": "sql"
            },
            "outputs": [
                {
                    "output_type": "display_data",
                    "data": {
                        "text/html": "Commands completed successfully."
                    },
                    "metadata": {}
                },
                {
                    "output_type": "display_data",
                    "data": {
                        "text/html": "(830 rows affected)"
                    },
                    "metadata": {}
                },
                {
                    "output_type": "display_data",
                    "data": {
                        "text/html": "Total execution time: 00:00:00.025"
                    },
                    "metadata": {}
                }
            ],
            "execution_count": 22
        },
        {
            "cell_type": "code",
            "source": [
                "SELECt TOP 5 *\r\n",
                "FROM TargetMartII.f.OrderPerf\r\n",
                ";"
            ],
            "metadata": {
                "azdata_cell_guid": "dad01aec-8195-4bda-a6fe-29f6e6425de5",
                "language": "sql"
            },
            "outputs": [
                {
                    "output_type": "display_data",
                    "data": {
                        "text/html": "(5 rows affected)"
                    },
                    "metadata": {}
                },
                {
                    "output_type": "display_data",
                    "data": {
                        "text/html": "Total execution time: 00:00:00.034"
                    },
                    "metadata": {}
                },
                {
                    "output_type": "execute_result",
                    "metadata": {},
                    "execution_count": 23,
                    "data": {
                        "application/vnd.dataresource+json": {
                            "schema": {
                                "fields": [
                                    {
                                        "name": "OrderID"
                                    },
                                    {
                                        "name": "fkCalendar"
                                    },
                                    {
                                        "name": "fkCustomer"
                                    },
                                    {
                                        "name": "fkShipper"
                                    },
                                    {
                                        "name": "fkEmployee"
                                    },
                                    {
                                        "name": "Freight"
                                    },
                                    {
                                        "name": "DaysToShip"
                                    },
                                    {
                                        "name": "DaysTilRequired"
                                    },
                                    {
                                        "name": "OrderCount"
                                    }
                                ]
                            },
                            "data": [
                                {
                                    "OrderID": "10248",
                                    "fkCalendar": "120551",
                                    "fkCustomer": "1084",
                                    "fkShipper": "3",
                                    "fkEmployee": "5",
                                    "Freight": "32.38",
                                    "DaysToShip": "12",
                                    "DaysTilRequired": "28",
                                    "OrderCount": "1"
                                },
                                {
                                    "OrderID": "10249",
                                    "fkCalendar": "120552",
                                    "fkCustomer": "1078",
                                    "fkShipper": "1",
                                    "fkEmployee": "6",
                                    "Freight": "11.61",
                                    "DaysToShip": "5",
                                    "DaysTilRequired": "42",
                                    "OrderCount": "1"
                                },
                                {
                                    "OrderID": "10250",
                                    "fkCalendar": "120555",
                                    "fkCustomer": "1033",
                                    "fkShipper": "2",
                                    "fkEmployee": "4",
                                    "Freight": "65.83",
                                    "DaysToShip": "4",
                                    "DaysTilRequired": "28",
                                    "OrderCount": "1"
                                },
                                {
                                    "OrderID": "10251",
                                    "fkCalendar": "120555",
                                    "fkCustomer": "1083",
                                    "fkShipper": "1",
                                    "fkEmployee": "3",
                                    "Freight": "41.34",
                                    "DaysToShip": "7",
                                    "DaysTilRequired": "28",
                                    "OrderCount": "1"
                                },
                                {
                                    "OrderID": "10252",
                                    "fkCalendar": "120556",
                                    "fkCustomer": "1075",
                                    "fkShipper": "2",
                                    "fkEmployee": "4",
                                    "Freight": "51.30",
                                    "DaysToShip": "2",
                                    "DaysTilRequired": "28",
                                    "OrderCount": "1"
                                }
                            ]
                        },
                        "text/html": [
                            "<table>",
                            "<tr><th>OrderID</th><th>fkCalendar</th><th>fkCustomer</th><th>fkShipper</th><th>fkEmployee</th><th>Freight</th><th>DaysToShip</th><th>DaysTilRequired</th><th>OrderCount</th></tr>",
                            "<tr><td>10248</td><td>120551</td><td>1084</td><td>3</td><td>5</td><td>32.38</td><td>12</td><td>28</td><td>1</td></tr>",
                            "<tr><td>10249</td><td>120552</td><td>1078</td><td>1</td><td>6</td><td>11.61</td><td>5</td><td>42</td><td>1</td></tr>",
                            "<tr><td>10250</td><td>120555</td><td>1033</td><td>2</td><td>4</td><td>65.83</td><td>4</td><td>28</td><td>1</td></tr>",
                            "<tr><td>10251</td><td>120555</td><td>1083</td><td>1</td><td>3</td><td>41.34</td><td>7</td><td>28</td><td>1</td></tr>",
                            "<tr><td>10252</td><td>120556</td><td>1075</td><td>2</td><td>4</td><td>51.30</td><td>2</td><td>28</td><td>1</td></tr>",
                            "</table>"
                        ]
                    }
                }
            ],
            "execution_count": 23
        },
        {
            "cell_type": "markdown",
            "source": [
                "The data from Northwnd\\_2023 is being converted and transferred here from multiple tables and columns. For instance, dbo.Orders placed by Northwind\\_2023, dim.Customers and Calendar from TargetMart2. The Truncate table command is used to avoid having to update the table every time we insert new data. Simply truncating the table allows us to erase the data and insert new and updated data inside the same operation."
            ],
            "metadata": {
                "azdata_cell_guid": "4d2d6205-d199-408b-92b0-55a37a6d4b2c"
            },
            "attachments": {}
        },
        {
            "cell_type": "markdown",
            "source": [
                "## **Loading Data into f.ProductPerf table**"
            ],
            "metadata": {
                "azdata_cell_guid": "65a9e4fa-620d-42f2-a2e4-dbe826cdda2d"
            },
            "attachments": {}
        },
        {
            "cell_type": "code",
            "source": [
                "TRUNCATE TABLE TargetMartII.f.ProductPerf\r\n",
                "GO\r\n",
                "\r\n",
                "INSERT INTO TargetMartII.f.ProductPerf(OrderID, fkOrderDate, fkProductID, fkCustomerID, UnitPrice, Quantity, Discount, DiscFlag, LineTotal)\r\n",
                "SELECT sDet.OrderID\r\n",
                "      ,tCal.pkCalendar as 'OrderDate'\r\n",
                "      ,sDet.ProductID + 10000 as 'ProductID'\r\n",
                "--\t  ,sOrd.CustomerID\r\n",
                "\t  ,tCust.pkCustomer\r\n",
                "      ,sDet.UnitPrice\r\n",
                "      ,sDet.Quantity\r\n",
                "      ,sDet.Discount\r\n",
                "\t  ,CASE \r\n",
                "\t\t WHEN sDet.Discount = 0 THEN 0\r\n",
                "\t\t ELSE 1\r\n",
                "\t   END as 'DiscFlag'\r\n",
                "\t  ,CAST(((1 - sDet.Discount) * sDet.UnitPrice) * sDet.Quantity as MONEY) as 'LineTotal'\r\n",
                "FROM Northwind_2023.dbo.OrderDetails sDet\r\n",
                "\tINNER JOIN Northwind_2023.dbo.Orders sOrd\r\n",
                "\tON sDet.OrderID = sOrd.OrderID\r\n",
                "\tINNER JOIN TargetMartII.dim.Calendar tCal\r\n",
                "\tON CAST(sOrd.OrderDate as DATE) = tCal.DateValue\r\n",
                "\tINNER JOIN TargetMartII.dim.Customers tCust\r\n",
                "\tON sOrd.CustomerID = tCust.CustomerID\r\n",
                ";"
            ],
            "metadata": {
                "azdata_cell_guid": "279e6d38-7dec-4913-94a8-2e3c35ab3e2a",
                "language": "sql"
            },
            "outputs": [
                {
                    "output_type": "display_data",
                    "data": {
                        "text/html": "Commands completed successfully."
                    },
                    "metadata": {}
                },
                {
                    "output_type": "display_data",
                    "data": {
                        "text/html": "(2155 rows affected)"
                    },
                    "metadata": {}
                },
                {
                    "output_type": "display_data",
                    "data": {
                        "text/html": "Total execution time: 00:00:00.087"
                    },
                    "metadata": {}
                }
            ],
            "execution_count": 24
        },
        {
            "cell_type": "code",
            "source": [
                "SELECT TOP 5 *\r\n",
                "FROM TargetMartII.f.ProductPerf\r\n",
                ";"
            ],
            "metadata": {
                "azdata_cell_guid": "71238d0e-c752-435f-a662-7c4bdd291464",
                "language": "sql"
            },
            "outputs": [
                {
                    "output_type": "display_data",
                    "data": {
                        "text/html": "(5 rows affected)"
                    },
                    "metadata": {}
                },
                {
                    "output_type": "display_data",
                    "data": {
                        "text/html": "Total execution time: 00:00:00.007"
                    },
                    "metadata": {}
                },
                {
                    "output_type": "execute_result",
                    "metadata": {},
                    "execution_count": 26,
                    "data": {
                        "application/vnd.dataresource+json": {
                            "schema": {
                                "fields": [
                                    {
                                        "name": "OrderID"
                                    },
                                    {
                                        "name": "fkOrderDate"
                                    },
                                    {
                                        "name": "fkProductID"
                                    },
                                    {
                                        "name": "fkCustomerID"
                                    },
                                    {
                                        "name": "UnitPrice"
                                    },
                                    {
                                        "name": "Quantity"
                                    },
                                    {
                                        "name": "Discount"
                                    },
                                    {
                                        "name": "DiscFlag"
                                    },
                                    {
                                        "name": "LineTotal"
                                    }
                                ]
                            },
                            "data": [
                                {
                                    "OrderID": "10248",
                                    "fkOrderDate": "120551",
                                    "fkProductID": "10011",
                                    "fkCustomerID": "1084",
                                    "UnitPrice": "14.00",
                                    "Quantity": "12",
                                    "Discount": "0",
                                    "DiscFlag": "0",
                                    "LineTotal": "168.00"
                                },
                                {
                                    "OrderID": "10248",
                                    "fkOrderDate": "120551",
                                    "fkProductID": "10042",
                                    "fkCustomerID": "1084",
                                    "UnitPrice": "9.80",
                                    "Quantity": "10",
                                    "Discount": "0",
                                    "DiscFlag": "0",
                                    "LineTotal": "98.00"
                                },
                                {
                                    "OrderID": "10248",
                                    "fkOrderDate": "120551",
                                    "fkProductID": "10072",
                                    "fkCustomerID": "1084",
                                    "UnitPrice": "34.80",
                                    "Quantity": "5",
                                    "Discount": "0",
                                    "DiscFlag": "0",
                                    "LineTotal": "174.00"
                                },
                                {
                                    "OrderID": "10249",
                                    "fkOrderDate": "120552",
                                    "fkProductID": "10014",
                                    "fkCustomerID": "1078",
                                    "UnitPrice": "18.60",
                                    "Quantity": "9",
                                    "Discount": "0",
                                    "DiscFlag": "0",
                                    "LineTotal": "167.40"
                                },
                                {
                                    "OrderID": "10249",
                                    "fkOrderDate": "120552",
                                    "fkProductID": "10051",
                                    "fkCustomerID": "1078",
                                    "UnitPrice": "42.40",
                                    "Quantity": "40",
                                    "Discount": "0",
                                    "DiscFlag": "0",
                                    "LineTotal": "1696.00"
                                }
                            ]
                        },
                        "text/html": [
                            "<table>",
                            "<tr><th>OrderID</th><th>fkOrderDate</th><th>fkProductID</th><th>fkCustomerID</th><th>UnitPrice</th><th>Quantity</th><th>Discount</th><th>DiscFlag</th><th>LineTotal</th></tr>",
                            "<tr><td>10248</td><td>120551</td><td>10011</td><td>1084</td><td>14.00</td><td>12</td><td>0</td><td>0</td><td>168.00</td></tr>",
                            "<tr><td>10248</td><td>120551</td><td>10042</td><td>1084</td><td>9.80</td><td>10</td><td>0</td><td>0</td><td>98.00</td></tr>",
                            "<tr><td>10248</td><td>120551</td><td>10072</td><td>1084</td><td>34.80</td><td>5</td><td>0</td><td>0</td><td>174.00</td></tr>",
                            "<tr><td>10249</td><td>120552</td><td>10014</td><td>1078</td><td>18.60</td><td>9</td><td>0</td><td>0</td><td>167.40</td></tr>",
                            "<tr><td>10249</td><td>120552</td><td>10051</td><td>1078</td><td>42.40</td><td>40</td><td>0</td><td>0</td><td>1696.00</td></tr>",
                            "</table>"
                        ]
                    }
                }
            ],
            "execution_count": 26
        },
        {
            "cell_type": "markdown",
            "source": [
                "The data from Northwnd\\_2023 is being converted and transferred here from multiple tables and columns. For instance, dbo.Orders as well as dbo.Northwind\\_2023, orderDetails, dim.Customers and Calendar from TargetMart2. The Truncate table command is used to avoid having to update the table every time we insert new data. Simply truncating the table allows us to erase the data and insert new and updated data inside the same operation. The second cell displays the first five rows of the ProductPerf table."
            ],
            "metadata": {
                "azdata_cell_guid": "45aa6651-56d0-406b-8eba-ddde0aaf5f0c"
            },
            "attachments": {}
        }
    ]
}